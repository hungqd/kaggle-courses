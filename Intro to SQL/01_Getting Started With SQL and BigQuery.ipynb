{
 "cells": [
  {
   "cell_type": "code",
   "execution_count": 1,
   "metadata": {},
   "outputs": [],
   "source": [
    "from google.cloud import bigquery\n",
    "from google.oauth2 import service_account"
   ]
  },
  {
   "cell_type": "code",
   "execution_count": 2,
   "metadata": {},
   "outputs": [],
   "source": [
    "credentials = service_account.Credentials.from_service_account_file(\"account.json\")\n",
    "project_id = \"bigquery-public-data\"\n",
    "client = bigquery.Client(project=project_id, credentials=credentials)"
   ]
  },
  {
   "cell_type": "code",
   "execution_count": 3,
   "metadata": {},
   "outputs": [],
   "source": [
    "dataset_ref = client.dataset(\"hacker_news\")"
   ]
  },
  {
   "cell_type": "code",
   "execution_count": 4,
   "metadata": {},
   "outputs": [],
   "source": [
    "dataset = client.get_dataset(dataset_ref)"
   ]
  },
  {
   "cell_type": "code",
   "execution_count": 5,
   "metadata": {},
   "outputs": [
    {
     "name": "stdout",
     "output_type": "stream",
     "text": [
      "comments\n",
      "full\n",
      "full_201510\n",
      "stories\n"
     ]
    }
   ],
   "source": [
    "tables = client.list_tables(dataset)\n",
    "for table in tables:\n",
    "    print(table.table_id)"
   ]
  },
  {
   "cell_type": "code",
   "execution_count": 6,
   "metadata": {},
   "outputs": [],
   "source": [
    "table_ref = dataset_ref.table(\"full\")"
   ]
  },
  {
   "cell_type": "code",
   "execution_count": 7,
   "metadata": {},
   "outputs": [],
   "source": [
    "table = client.get_table(table_ref)"
   ]
  },
  {
   "cell_type": "code",
   "execution_count": 8,
   "metadata": {},
   "outputs": [
    {
     "data": {
      "text/plain": [
       "[SchemaField('title', 'STRING', 'NULLABLE', 'Story title', (), None),\n",
       " SchemaField('url', 'STRING', 'NULLABLE', 'Story url', (), None),\n",
       " SchemaField('text', 'STRING', 'NULLABLE', 'Story or comment text', (), None),\n",
       " SchemaField('dead', 'BOOLEAN', 'NULLABLE', 'Is dead?', (), None),\n",
       " SchemaField('by', 'STRING', 'NULLABLE', \"The username of the item's author.\", (), None),\n",
       " SchemaField('score', 'INTEGER', 'NULLABLE', 'Story score', (), None),\n",
       " SchemaField('time', 'INTEGER', 'NULLABLE', 'Unix time', (), None),\n",
       " SchemaField('timestamp', 'TIMESTAMP', 'NULLABLE', 'Timestamp for the unix time', (), None),\n",
       " SchemaField('type', 'STRING', 'NULLABLE', 'Type of details (comment, comment_ranking, poll, story, job, pollopt)', (), None),\n",
       " SchemaField('id', 'INTEGER', 'NULLABLE', \"The item's unique id.\", (), None),\n",
       " SchemaField('parent', 'INTEGER', 'NULLABLE', 'Parent comment ID', (), None),\n",
       " SchemaField('descendants', 'INTEGER', 'NULLABLE', 'Number of story or poll descendants', (), None),\n",
       " SchemaField('ranking', 'INTEGER', 'NULLABLE', 'Comment ranking', (), None),\n",
       " SchemaField('deleted', 'BOOLEAN', 'NULLABLE', 'Is deleted?', (), None)]"
      ]
     },
     "execution_count": 8,
     "metadata": {},
     "output_type": "execute_result"
    }
   ],
   "source": [
    "table.schema"
   ]
  },
  {
   "cell_type": "code",
   "execution_count": 9,
   "metadata": {},
   "outputs": [
    {
     "name": "stderr",
     "output_type": "stream",
     "text": [
      "/Users/hungqd/.pyenv/versions/3.8.6/lib/python3.8/site-packages/google/cloud/bigquery/table.py:1765: UserWarning: Cannot use bqstorage_client if max_results is set, reverting to fetching data with the REST endpoint.\n",
      "  if not self._validate_bqstorage(bqstorage_client, create_bqstorage_client):\n"
     ]
    },
    {
     "data": {
      "text/html": [
       "<div>\n",
       "<style scoped>\n",
       "    .dataframe tbody tr th:only-of-type {\n",
       "        vertical-align: middle;\n",
       "    }\n",
       "\n",
       "    .dataframe tbody tr th {\n",
       "        vertical-align: top;\n",
       "    }\n",
       "\n",
       "    .dataframe thead th {\n",
       "        text-align: right;\n",
       "    }\n",
       "</style>\n",
       "<table border=\"1\" class=\"dataframe\">\n",
       "  <thead>\n",
       "    <tr style=\"text-align: right;\">\n",
       "      <th></th>\n",
       "      <th>title</th>\n",
       "      <th>url</th>\n",
       "      <th>text</th>\n",
       "      <th>dead</th>\n",
       "      <th>by</th>\n",
       "      <th>score</th>\n",
       "      <th>time</th>\n",
       "      <th>timestamp</th>\n",
       "      <th>type</th>\n",
       "      <th>id</th>\n",
       "      <th>parent</th>\n",
       "      <th>descendants</th>\n",
       "      <th>ranking</th>\n",
       "      <th>deleted</th>\n",
       "    </tr>\n",
       "  </thead>\n",
       "  <tbody>\n",
       "    <tr>\n",
       "      <th>0</th>\n",
       "      <td>None</td>\n",
       "      <td>None</td>\n",
       "      <td>Depends on the country though. Those mussels w...</td>\n",
       "      <td>None</td>\n",
       "      <td>lostlogin</td>\n",
       "      <td>NaN</td>\n",
       "      <td>1527294318</td>\n",
       "      <td>2018-05-26 00:25:18+00:00</td>\n",
       "      <td>comment</td>\n",
       "      <td>17159299</td>\n",
       "      <td>17158003</td>\n",
       "      <td>NaN</td>\n",
       "      <td>NaN</td>\n",
       "      <td>None</td>\n",
       "    </tr>\n",
       "    <tr>\n",
       "      <th>1</th>\n",
       "      <td>None</td>\n",
       "      <td>None</td>\n",
       "      <td>This Xbox service runs on Kubernetes: &lt;a href=...</td>\n",
       "      <td>None</td>\n",
       "      <td>bureado</td>\n",
       "      <td>NaN</td>\n",
       "      <td>1589312993</td>\n",
       "      <td>2020-05-12 19:49:53+00:00</td>\n",
       "      <td>comment</td>\n",
       "      <td>23158840</td>\n",
       "      <td>23158183</td>\n",
       "      <td>NaN</td>\n",
       "      <td>NaN</td>\n",
       "      <td>None</td>\n",
       "    </tr>\n",
       "    <tr>\n",
       "      <th>2</th>\n",
       "      <td>None</td>\n",
       "      <td>None</td>\n",
       "      <td>If anyone has topics they'd like to hear more ...</td>\n",
       "      <td>None</td>\n",
       "      <td>pskomoroch</td>\n",
       "      <td>NaN</td>\n",
       "      <td>1355338594</td>\n",
       "      <td>2012-12-12 18:56:34+00:00</td>\n",
       "      <td>comment</td>\n",
       "      <td>4911808</td>\n",
       "      <td>4908392</td>\n",
       "      <td>NaN</td>\n",
       "      <td>NaN</td>\n",
       "      <td>None</td>\n",
       "    </tr>\n",
       "    <tr>\n",
       "      <th>3</th>\n",
       "      <td>None</td>\n",
       "      <td>None</td>\n",
       "      <td>&amp;quot;It&amp;#x27;s called a 0-day because (typica...</td>\n",
       "      <td>None</td>\n",
       "      <td>greedo</td>\n",
       "      <td>NaN</td>\n",
       "      <td>1376586308</td>\n",
       "      <td>2013-08-15 17:05:08+00:00</td>\n",
       "      <td>comment</td>\n",
       "      <td>6219201</td>\n",
       "      <td>6218893</td>\n",
       "      <td>NaN</td>\n",
       "      <td>NaN</td>\n",
       "      <td>None</td>\n",
       "    </tr>\n",
       "    <tr>\n",
       "      <th>4</th>\n",
       "      <td>None</td>\n",
       "      <td>None</td>\n",
       "      <td>Protonmail.</td>\n",
       "      <td>None</td>\n",
       "      <td>joering2</td>\n",
       "      <td>NaN</td>\n",
       "      <td>1538090848</td>\n",
       "      <td>2018-09-27 23:27:28+00:00</td>\n",
       "      <td>comment</td>\n",
       "      <td>18089775</td>\n",
       "      <td>18088993</td>\n",
       "      <td>NaN</td>\n",
       "      <td>NaN</td>\n",
       "      <td>None</td>\n",
       "    </tr>\n",
       "  </tbody>\n",
       "</table>\n",
       "</div>"
      ],
      "text/plain": [
       "  title   url                                               text  dead  \\\n",
       "0  None  None  Depends on the country though. Those mussels w...  None   \n",
       "1  None  None  This Xbox service runs on Kubernetes: <a href=...  None   \n",
       "2  None  None  If anyone has topics they'd like to hear more ...  None   \n",
       "3  None  None  &quot;It&#x27;s called a 0-day because (typica...  None   \n",
       "4  None  None                                        Protonmail.  None   \n",
       "\n",
       "           by  score        time                 timestamp     type        id  \\\n",
       "0   lostlogin    NaN  1527294318 2018-05-26 00:25:18+00:00  comment  17159299   \n",
       "1     bureado    NaN  1589312993 2020-05-12 19:49:53+00:00  comment  23158840   \n",
       "2  pskomoroch    NaN  1355338594 2012-12-12 18:56:34+00:00  comment   4911808   \n",
       "3      greedo    NaN  1376586308 2013-08-15 17:05:08+00:00  comment   6219201   \n",
       "4    joering2    NaN  1538090848 2018-09-27 23:27:28+00:00  comment  18089775   \n",
       "\n",
       "     parent  descendants  ranking deleted  \n",
       "0  17158003          NaN      NaN    None  \n",
       "1  23158183          NaN      NaN    None  \n",
       "2   4908392          NaN      NaN    None  \n",
       "3   6218893          NaN      NaN    None  \n",
       "4  18088993          NaN      NaN    None  "
      ]
     },
     "execution_count": 9,
     "metadata": {},
     "output_type": "execute_result"
    }
   ],
   "source": [
    "client.list_rows(table, max_results=5).to_dataframe()"
   ]
  },
  {
   "cell_type": "code",
   "execution_count": null,
   "metadata": {},
   "outputs": [],
   "source": []
  }
 ],
 "metadata": {
  "kernelspec": {
   "display_name": "Python 3",
   "language": "python",
   "name": "python3"
  },
  "language_info": {
   "codemirror_mode": {
    "name": "ipython",
    "version": 3
   },
   "file_extension": ".py",
   "mimetype": "text/x-python",
   "name": "python",
   "nbconvert_exporter": "python",
   "pygments_lexer": "ipython3",
   "version": "3.8.6"
  }
 },
 "nbformat": 4,
 "nbformat_minor": 4
}
